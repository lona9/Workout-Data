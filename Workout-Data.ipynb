{
 "cells": [
  {
   "cell_type": "markdown",
   "metadata": {},
   "source": [
    "# Objective\n",
    "\n",
    "Track my workout data for a period of time and notice trends, improvements and overall see pretty data for something I enjoy.\n",
    "\n",
    "# How to get it organized:\n",
    "### Yoga\n",
    "- Track date and time of day, duration in minutes, style, workout level, body focus for each workout.\n",
    "- The data can be retrieved from Down Dog app logs (which provide nearly all the data) + Google Fit app (which provides the date and time of day data).\n",
    "\n",
    "### Running\n",
    "- Track date and time of day, location, duration in minutes, total distance, average rhythm, time for every 500 meters, rhythm at every 500 meters, calories burned.\n",
    "- The data can be retrieved entirely from Runkeeper app logs.\n",
    "\n",
    "# To do:\n",
    "- Gather data manually, use only this month's workouts.\n",
    "\n",
    "# Possible additions:\n",
    "Discord bot to add new workouts, display summary of workouts, plan workouts and set reminders."
   ]
  }
 ],
 "metadata": {
  "kernelspec": {
   "display_name": "Python 3",
   "language": "python",
   "name": "python3"
  },
  "language_info": {
   "codemirror_mode": {
    "name": "ipython",
    "version": 3
   },
   "file_extension": ".py",
   "mimetype": "text/x-python",
   "name": "python",
   "nbconvert_exporter": "python",
   "pygments_lexer": "ipython3",
   "version": "3.8.5"
  }
 },
 "nbformat": 4,
 "nbformat_minor": 4
}
